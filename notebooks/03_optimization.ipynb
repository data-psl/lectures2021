{
  "cells": [
    {
      "cell_type": "markdown",
      "metadata": {
        "colab_type": "text",
        "id": "fez2KEiqT0PO"
      },
      "source": [
        "Notebook prepared by Mathieu Blondel and Pierre Ablin."
      ]
    },
    {
      "cell_type": "markdown",
      "metadata": {
        "colab_type": "text",
        "id": "VP2BK_aX_I2-"
      },
      "source": [
        "# Lecture 1"
      ]
    },
    {
      "cell_type": "markdown",
      "metadata": {
        "colab_type": "text",
        "id": "UuAYuQ95reai"
      },
      "source": [
        "## Ridge regression"
      ]
    },
    {
      "cell_type": "code",
      "execution_count": null,
      "metadata": {
        "colab": {},
        "colab_type": "code",
        "id": "3SYMuhGT_1Ok"
      },
      "outputs": [],
      "source": [
        "from sklearn.datasets import load_boston\n",
        "from sklearn.model_selection import train_test_split\n",
        "\n",
        "# Load the Boston housing dataset.\n",
        "X_boston, y_boston = load_boston(return_X_y=True)\n",
        "\n",
        "# Split into 60% training, 20% validation and 20% test.\n",
        "X_boston_tr, X_rest, y_boston_tr, y_rest = \\\n",
        "  train_test_split(X_boston, y_boston, test_size=0.4, random_state=0)\n",
        "X_boston_val, X_boston_te, y_boston_val, y_boston_te = \\\n",
        "  train_test_split(X_rest, y_rest, test_size=0.5, random_state=0)"
      ]
    },
    {
      "cell_type": "markdown",
      "metadata": {
        "colab_type": "text",
        "id": "PtoOJ8agAd95"
      },
      "source": [
        "**Exercise 1.** Implement the analytical solution of ridge regression $(X^\\top X + \\alpha I) w = X^\\top y$ (see [slides](https://data-psl.github.io/lectures2021/slides/05_optimization_linear_models)) using [scipy.linalg.solve](https://docs.scipy.org/doc/scipy/reference/generated/scipy.linalg.solve.html). Compute the solution on the training data. Make sure that the gradient at the solution is zero (up to machine precision)."
      ]
    },
    {
      "cell_type": "code",
      "execution_count": null,
      "metadata": {
        "colab": {
          "base_uri": "https://localhost:8080/",
          "height": 34
        },
        "colab_type": "code",
        "id": "heG7kuDXB3Md",
        "outputId": "311e1858-5e1e-4fdf-acb8-26c908fb1852"
      },
      "outputs": [],
      "source": [
        "import numpy as np\n",
        "from scipy.linalg import solve\n",
        "\n",
        "def ridge_regression_solution(X, y, alpha):\n",
        "  # Write your function here\n",
        "  return w\n",
        "\n",
        "def ridge_regression_gradient(w, X, y, alpha):\n",
        "  # Write your function here\n",
        "  return gradient\n",
        "\n",
        "w_star = ridge_regression_solution(X_boston_tr, y_boston_tr, alpha=0.1)\n",
        "\n",
        "gradient = ridge_regression_gradient(w_star, X_boston_tr, y_boston_tr, alpha=0.1)\n",
        "np.sqrt(np.sum(gradient ** 2))"
      ]
    },
    {
      "cell_type": "markdown",
      "metadata": {
        "colab_type": "text",
        "id": "a4wef-U2CGVX"
      },
      "source": [
        "**Exercise 2.** Train the models for several possible values of alpha (see below). Plot the mean squared error on the test set as a function of alpha. Use the validation data to find the best alpha and display it on the graph using a circle."
      ]
    },
    {
      "cell_type": "code",
      "execution_count": null,
      "metadata": {
        "colab": {
          "base_uri": "https://localhost:8080/",
          "height": 269
        },
        "colab_type": "code",
        "id": "aWDX9MAfC_5I",
        "outputId": "fc5271ef-cf04-40a0-efa7-acf94f9c3133"
      },
      "outputs": [],
      "source": [
        "alphas = np.logspace(-3, 3, 20)"
      ]
    },
    {
      "cell_type": "markdown",
      "metadata": {
        "colab_type": "text",
        "id": "jm9fAF9FDAVO"
      },
      "source": [
        "**Bonus exercise.** Implement a scikit-learn compatible estimator class (with fit and predict methods). Compare that you obtain the same results as `sklearn.linear_model.Ridge(fit_intercept=False)`."
      ]
    },
    {
      "cell_type": "code",
      "execution_count": null,
      "metadata": {
        "colab": {
          "base_uri": "https://localhost:8080/",
          "height": 85
        },
        "colab_type": "code",
        "id": "oRYP-c94qTrz",
        "outputId": "4b599acd-4b0c-4f01-915f-867365460bef"
      },
      "outputs": [],
      "source": [
        "from sklearn.base import BaseEstimator, RegressorMixin\n",
        "\n",
        "class MyRidge(BaseEstimator, RegressorMixin):\n",
        "  def __init__(self, alpha=1.0):\n",
        "    self.alpha = alpha\n",
        "\n",
        "  def fit(self, X, y):\n",
        "    # Write your code here\n",
        "    return self\n",
        "\n",
        "  def predict(self, X):\n",
        "    # Write your code here\n",
        "    return\n",
        "\n",
        "from sklearn.linear_model import Ridge\n",
        "\n",
        "print(MyRidge().fit(X_boston_tr, y_boston_tr).predict(X_boston_te)[:10])\n",
        "print(Ridge(fit_intercept=False).fit(X_boston_tr, y_boston_tr).predict(X_boston_te)[:10])"
      ]
    },
    {
      "cell_type": "markdown",
      "metadata": {
        "colab_type": "text",
        "id": "8URXWS49Dhmc"
      },
      "source": [
        "## Logistic regression"
      ]
    },
    {
      "cell_type": "code",
      "execution_count": null,
      "metadata": {
        "colab": {},
        "colab_type": "code",
        "id": "E6rPbJE6EPbZ"
      },
      "outputs": [],
      "source": [
        "from sklearn.datasets import load_iris\n",
        "\n",
        "X_iris, y_iris = load_iris(return_X_y=True)\n",
        "# Keep only two classes for this exercise.\n",
        "X_iris = X_iris[y_iris <= 1]\n",
        "y_iris = y_iris[y_iris <= 1]"
      ]
    },
    {
      "cell_type": "markdown",
      "metadata": {
        "colab_type": "text",
        "id": "APsoy2dQHceV"
      },
      "source": [
        "**Exercise 3.** Make a function that computes \n",
        "$$\n",
        "\\text{softplus}(u) = \\log(1 + e^u)\n",
        "$$\n",
        "and notice that its derivative is\n",
        "$$\n",
        "(\\text{softplus}(u))' = \\frac{e^u}{1 + e^u} = \\frac{1}{1 + e^{-u}} = \\text{sigmoid}(u).\n",
        "$$\n",
        "Using the finite difference formula $f'(u) \\approx \\frac{f(u + \\epsilon) - f(u)}{\\epsilon}$ where epsilon is small value (e.g. 10^-6), check that the derivative of softplus is indeed the sigmoid."
      ]
    },
    {
      "cell_type": "code",
      "execution_count": null,
      "metadata": {
        "colab": {
          "base_uri": "https://localhost:8080/",
          "height": 68
        },
        "colab_type": "code",
        "id": "MQGEYam4IYSc",
        "outputId": "c0ed22cc-e55a-4a9c-ac3b-dbce3f267aa6"
      },
      "outputs": [],
      "source": [
        "import numpy as np\n",
        "from scipy.special import expit as sigmoid\n",
        "\n",
        "print(softplus(3))\n",
        "print(finite_difference(softplus, 3))\n",
        "print(sigmoid(3))"
      ]
    },
    {
      "cell_type": "markdown",
      "metadata": {
        "colab_type": "text",
        "id": "230EfSR_Elw0"
      },
      "source": [
        "**Exercise 4.** \n",
        "Make a function that computes the likelihood\n",
        "$$\n",
        "\\text{likelihood}(u_i, y_i) = y_i \\log \\text{sigmoid}(u_i) + (1-y_i) \\log (1-\\text{sigmoid}(u_i))\n",
        "$$\n",
        "where $u_i = \\mathbf{w}^\\top \\mathbf{x}_i$.\n",
        "Using\n",
        "$$\n",
        "\\log \\text{sigmoid}(u) = -\\text{softplus}(-u)\n",
        "$$\n",
        "and\n",
        "$$\n",
        "\\log(1 - \\text{sigmoid}(u)) = -\\text{softplus}(u)\n",
        "$$\n",
        "make a function that computes the derivative of $\\text{likelihood}(u_i, y_i)$ with respect to $u_i$. Check the result by finite difference. Be careful of signs!"
      ]
    },
    {
      "cell_type": "code",
      "execution_count": null,
      "metadata": {
        "colab": {
          "base_uri": "https://localhost:8080/",
          "height": 51
        },
        "colab_type": "code",
        "id": "Yj7jUsRhS7BO",
        "outputId": "338a77ce-7378-4044-ace9-5fbe087353ae"
      },
      "outputs": [],
      "source": [
        "def likelihood(u_i, y_i):\n",
        "  # Write function here\n",
        "  return\n",
        "\n",
        "def likelihood_derivative(u_i, y_i):\n",
        "  # Write function here\n",
        "  return \n",
        "  \n",
        "print(likelihood_derivative(3, 1))\n",
        "print(finite_difference(likelihood, 3, 1))"
      ]
    },
    {
      "cell_type": "markdown",
      "metadata": {
        "colab_type": "text",
        "id": "3BS3nztaQ9q6"
      },
      "source": [
        "**Exercise 5.** Write a function that implements the penalized objective function\n",
        "$$\n",
        "L(\\mathbf{w})\n",
        "= -\\sum_{i=1}^n y_i \\log \\text{sigmoid}(\\mathbf{w}^\\top \\mathbf{x}_i) + (1-y_i) \\log (1-\\text{sigmoid}(\\mathbf{w}^\\top \\mathbf{x}_i)) + \\frac{\\alpha}{2} \\|\\mathbf{w}\\|^2\n",
        "$$\n",
        "and another function that computes its gradient. Reuse `likelihood(u_i, y_i)` and `likelihood_derivative(u_i, y_i)` (you can use a for loop). Check that the gradient is correct using finite differences."
      ]
    },
    {
      "cell_type": "code",
      "execution_count": null,
      "metadata": {
        "colab": {
          "base_uri": "https://localhost:8080/",
          "height": 51
        },
        "colab_type": "code",
        "id": "zvH8ea1RHbY7",
        "outputId": "ff631ed9-23ab-43f6-bb82-b60de33674bd"
      },
      "outputs": [],
      "source": [
        "def objective_value(w, X, y, alpha):\n",
        "  # Write function here\n",
        "  return\n",
        "\n",
        "def objective_gradient(w, X, y, alpha):\n",
        "  # Write function here\n",
        "  return\n",
        "\n",
        "def finite_difference_gradient(func, w, *args, eps=1e-6):\n",
        "  gradient = np.zeros_like(w)\n",
        "  for j in range(len(w)):\n",
        "    e_j = np.zeros(len(w))\n",
        "    e_j[j] = 1\n",
        "    gradient[j] = (func(w + eps * e_j, *args) - func(w, *args)) / eps\n",
        "  return gradient\n",
        "\n",
        "n_samples, n_features = X_iris.shape\n",
        "w = np.random.randn(n_features)\n",
        "alpha = 0.1\n",
        "print(objective_gradient(w, X_iris, y_iris, alpha))\n",
        "print(finite_difference_gradient(objective_value, w, X_iris, y_iris, alpha))"
      ]
    },
    {
      "cell_type": "markdown",
      "metadata": {
        "colab_type": "text",
        "id": "YcG3xB4uc3Q0"
      },
      "source": [
        "**Exercise 6.** Implement gradient descent. Check that the objective value is decreasing. Plot the objective value as a function of the number of iterations."
      ]
    },
    {
      "cell_type": "code",
      "execution_count": null,
      "metadata": {
        "colab": {
          "base_uri": "https://localhost:8080/",
          "height": 265
        },
        "colab_type": "code",
        "id": "OgYmz3W5dBes",
        "outputId": "26945858-463f-469c-ea4b-05784a86b1d6"
      },
      "outputs": [],
      "source": [
        "def gradient_descent(value_function, gradient_function, w_init, *args, \n",
        "                     step_size=1e-4, num_iterations=1000):\n",
        "  \n",
        "  values = []\n",
        "  w = w_init\n",
        "  # Write gradient descent iteration here.\n",
        "  return values\n",
        "\n",
        "n_samples, n_features = X_iris.shape\n",
        "w_init = np.random.randn(n_features)\n",
        "values = gradient_descent(objective_value, objective_gradient, w, X_iris, y_iris, alpha)\n",
        "\n",
        "import matplotlib.pyplot as plt\n",
        "plt.figure()\n",
        "plt.plot(np.arange(len(values)), values)\n",
        "plt.show()"
      ]
    },
    {
      "cell_type": "markdown",
      "metadata": {
        "colab_type": "text",
        "id": "vKshmyVEf5At"
      },
      "source": [
        "**Exercise 7.** Rewrite `objective_value` and `objective_gradient` without for loop. Check the correctness of your implementation against the version with a for loop."
      ]
    },
    {
      "cell_type": "code",
      "execution_count": null,
      "metadata": {
        "colab": {
          "base_uri": "https://localhost:8080/",
          "height": 85
        },
        "colab_type": "code",
        "id": "GtIL0DQLgnh9",
        "outputId": "bb151811-910f-46e2-bedb-3031499b5e73"
      },
      "outputs": [],
      "source": [
        "def objective_value_no_loop(w, X, y, alpha):\n",
        "  # Write your code here\n",
        "  return \n",
        "\n",
        "def objective_gradient_no_loop(w, X, y, alpha):\n",
        "  # Write your code here\n",
        "  return\n",
        "\n",
        "n_samples, n_features = X_iris.shape\n",
        "w = np.random.randn(n_features)\n",
        "alpha = 0.1\n",
        "print(objective_value(w, X_iris, y_iris, alpha))\n",
        "print(objective_value_no_loop(w, X_iris, y_iris, alpha))\n",
        "print(objective_gradient(w, X_iris, y_iris, alpha))\n",
        "print(objective_gradient_no_loop(w, X_iris, y_iris, alpha))"
      ]
    },
    {
      "cell_type": "markdown",
      "metadata": {
        "colab_type": "text",
        "id": "0gdsqbPEiroi"
      },
      "source": [
        "Time the two implementations."
      ]
    },
    {
      "cell_type": "code",
      "execution_count": null,
      "metadata": {
        "colab": {
          "base_uri": "https://localhost:8080/",
          "height": 68
        },
        "colab_type": "code",
        "id": "rqHQJjA8iv05",
        "outputId": "86b9b4f3-2166-4415-f414-21c2b2f7ba28"
      },
      "outputs": [],
      "source": [
        "%time objective_value(w, X_iris, y_iris, alpha)"
      ]
    },
    {
      "cell_type": "code",
      "execution_count": null,
      "metadata": {
        "colab": {
          "base_uri": "https://localhost:8080/",
          "height": 68
        },
        "colab_type": "code",
        "id": "BIWzhYOyi0df",
        "outputId": "14ae543a-d12c-4ed7-de02-615dd658f9cc"
      },
      "outputs": [],
      "source": [
        "%time objective_value_no_loop(w, X_iris, y_iris, alpha)"
      ]
    },
    {
      "cell_type": "markdown",
      "metadata": {
        "colab_type": "text",
        "id": "ZFWxXpj_riZp"
      },
      "source": [
        "# Lecture 2"
      ]
    },
    {
      "cell_type": "markdown",
      "metadata": {
        "colab_type": "text",
        "id": "X4VsRice8VqR"
      },
      "source": [
        "# Stochastic gradient descent"
      ]
    },
    {
      "cell_type": "markdown",
      "metadata": {
        "colab_type": "text",
        "id": "8HoXxpkV8VqR"
      },
      "source": [
        "We will focus on the Boston dataset and ridge regression. We will start by scaling the dataset"
      ]
    },
    {
      "cell_type": "code",
      "execution_count": null,
      "metadata": {
        "colab": {},
        "colab_type": "code",
        "id": "rpLM1kao8VqR"
      },
      "outputs": [],
      "source": [
        "from sklearn.preprocessing import StandardScaler\n",
        "\n",
        "X = StandardScaler().fit_transform(X_boston)\n",
        "y = y_boston - y_boston.mean()\n",
        "y /= np.std(y_boston)"
      ]
    },
    {
      "cell_type": "markdown",
      "metadata": {
        "colab_type": "text",
        "id": "dfainsjR8VqT"
      },
      "source": [
        "**Exercise 8.** Write a function that computes the stochastic gradient of ridge regression\n",
        "$$\n",
        "L(\\mathbf{w}) = \\frac{1}{n} \\|\\mathbf{y} - \\mathbf{X} \\mathbf{w}\\|^2 \n",
        "+ \\frac{\\alpha}{2} \\|\\mathbf{w}\\|^2\n",
        "$$\n",
        "(notice the 1/n factor).\n",
        "\n",
        "Check that the mean of the stochastic gradients gives the gradient."
      ]
    },
    {
      "cell_type": "code",
      "execution_count": null,
      "metadata": {
        "colab": {},
        "colab_type": "code",
        "id": "gyYNDeCw8VqT",
        "outputId": "07738a2d-ed03-449f-c09b-bdd8387c3cf0"
      },
      "outputs": [],
      "source": [
        "def ridge_objective(w, X, y, alpha):\n",
        "  # Write your code here\n",
        "  return \n",
        "\n",
        "\n",
        "def ridge_gradient(w, X, y, alpha):\n",
        "  # Write your code here\n",
        "  return\n",
        "\n",
        "def stochastic_gradient(w, i, X, y, alpha):\n",
        "  # Write your code here\n",
        "  return\n",
        "\n"
      ]
    },
    {
      "cell_type": "markdown",
      "metadata": {
        "colab_type": "text",
        "id": "dIyIKxau8VqV"
      },
      "source": [
        "**Exercise 9.** Write a function that implements stochastic gradient descent. Implement two rules for sampling the index: cyclic, and at random. Compare the convergence of both algorithms. What is the role of the step size?\n",
        "\n",
        "You should especially look at the convergence speed and the value at which the algorithm plateaus."
      ]
    },
    {
      "cell_type": "code",
      "execution_count": null,
      "metadata": {
        "colab": {},
        "colab_type": "code",
        "id": "pkcj3zn18VqW",
        "outputId": "b8bf191b-8a72-4a75-ed1b-c4d172c1502f"
      },
      "outputs": [],
      "source": [
        "def stochastic_gradient_descent(value_function, gradient_function, w_init, idx_list, *args,\n",
        "                                step_size=1e-4, num_iterations=1000):\n",
        "  \n",
        "  values = []\n",
        "  w = w_init\n",
        "  # Write SGD code here\n",
        "  return values\n",
        "\n"
      ]
    },
    {
      "cell_type": "markdown",
      "metadata": {
        "colab_type": "text",
        "id": "NXAGCMLH8VqX"
      },
      "source": [
        "# L-BFGS"
      ]
    },
    {
      "cell_type": "markdown",
      "metadata": {
        "colab_type": "text",
        "id": "sXrQ7waY8VqY"
      },
      "source": [
        "L-BFGS is the go-to second order method. It is already implemented in `scipy`:"
      ]
    },
    {
      "cell_type": "code",
      "execution_count": null,
      "metadata": {
        "colab": {},
        "colab_type": "code",
        "id": "4-4jfEsV8VqY"
      },
      "outputs": [],
      "source": [
        "from scipy.optimize import fmin_l_bfgs_b"
      ]
    },
    {
      "cell_type": "markdown",
      "metadata": {
        "colab_type": "text",
        "id": "LuaI7Gpj8Vqa"
      },
      "source": [
        "**Exercise 10.** Use the L-BFGS code to optimize the logistic regression on the Iris dataset. Compare it with your gradient descent.\n",
        "\n",
        "Hint: in order to store the function values, you can use the callback function in `fmin_l_bfgs_b`. Don't forget to read the documentation !"
      ]
    },
    {
      "cell_type": "code",
      "execution_count": null,
      "metadata": {
        "colab": {},
        "colab_type": "code",
        "id": "ZcGjCq098Vqa",
        "outputId": "8720d8a8-dabb-4964-f688-48f695eb23c4"
      },
      "outputs": [],
      "source": [
        "class callback(object):\n",
        "    def __init__(self):\n",
        "        self.values = []\n",
        "    \n",
        "    def __call__(self, w):\n",
        "        self.values.append(objective_value_no_loop(w, X_iris, y_iris, alpha))\n",
        "    "
      ]
    },
    {
      "cell_type": "code",
      "execution_count": null,
      "metadata": {
        "colab": {},
        "colab_type": "code",
        "id": "9y9gXdRc8Vqc"
      },
      "outputs": [],
      "source": []
    }
  ],
  "metadata": {
    "colab": {
      "name": "Optimization lab work",
      "provenance": []
    },
    "kernelspec": {
      "display_name": "Python 3.9.13 ('venv': venv)",
      "language": "python",
      "name": "python3"
    },
    "language_info": {
      "codemirror_mode": {
        "name": "ipython",
        "version": 3
      },
      "file_extension": ".py",
      "mimetype": "text/x-python",
      "name": "python",
      "nbconvert_exporter": "python",
      "pygments_lexer": "ipython3",
      "version": "3.9.13"
    },
    "vscode": {
      "interpreter": {
        "hash": "d3d699a5916e1aff8848f10bc57a89f93bc1cf3a71c02fefcecb8a901731c5d8"
      }
    }
  },
  "nbformat": 4,
  "nbformat_minor": 0
}
