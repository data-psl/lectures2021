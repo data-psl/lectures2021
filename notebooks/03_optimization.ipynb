{
  "nbformat": 4,
  "nbformat_minor": 0,
  "metadata": {
    "colab": {
      "name": "Optimization lab work",
      "provenance": []
    },
    "kernelspec": {
      "display_name": "Python 3",
      "language": "python",
      "name": "python3"
    },
    "language_info": {
      "codemirror_mode": {
        "name": "ipython",
        "version": 3
      },
      "file_extension": ".py",
      "mimetype": "text/x-python",
      "name": "python",
      "nbconvert_exporter": "python",
      "pygments_lexer": "ipython3",
      "version": "3.7.7"
    }
  },
  "cells": [
    {
      "cell_type": "markdown",
      "metadata": {
        "colab_type": "text",
        "id": "fez2KEiqT0PO"
      },
      "source": [
        "Notebook prepared by Mathieu Blondel (lecture 1) and Pierre Ablin (lecture 2)."
      ]
    },
    {
      "cell_type": "markdown",
      "metadata": {
        "colab_type": "text",
        "id": "VP2BK_aX_I2-"
      },
      "source": [
        "# Lecture 1"
      ]
    },
    {
      "cell_type": "markdown",
      "metadata": {
        "colab_type": "text",
        "id": "UuAYuQ95reai"
      },
      "source": [
        "## Ridge regression"
      ]
    },
    {
      "cell_type": "code",
      "metadata": {
        "colab_type": "code",
        "id": "3SYMuhGT_1Ok",
        "colab": {}
      },
      "source": [
        "from sklearn.datasets import load_boston\n",
        "from sklearn.model_selection import train_test_split\n",
        "\n",
        "# Load the Boston housing dataset.\n",
        "X_boston, y_boston = load_boston(return_X_y=True)\n",
        "\n",
        "# Split into 60% training, 20% validation and 20% test.\n",
        "X_boston_tr, X_rest, y_boston_tr, y_rest = \\\n",
        "  train_test_split(X_boston, y_boston, test_size=0.4, random_state=0)\n",
        "X_boston_val, X_boston_te, y_boston_val, y_boston_te = \\\n",
        "  train_test_split(X_rest, y_rest, test_size=0.5, random_state=0)"
      ],
      "execution_count": null,
      "outputs": []
    },
    {
      "cell_type": "markdown",
      "metadata": {
        "colab_type": "text",
        "id": "PtoOJ8agAd95"
      },
      "source": [
        "**Exercise 1.** Implement the analytical solution of ridge regression $(X^\\top X + \\alpha I) w = X^\\top y$ (see [slides](https://data-psl.github.io/lectures2021/slides/05_optimization_linear_models)) using [scipy.linalg.solve](https://docs.scipy.org/doc/scipy/reference/generated/scipy.linalg.solve.html). Compute the solution on the training data. Make sure that the gradient at the solution is zero (up to machine precision)."
      ]
    },
    {
      "cell_type": "code",
      "metadata": {
        "colab_type": "code",
        "id": "heG7kuDXB3Md",
        "colab": {
          "base_uri": "https://localhost:8080/",
          "height": 34
        },
        "outputId": "311e1858-5e1e-4fdf-acb8-26c908fb1852"
      },
      "source": [
        "from scipy.linalg import solve\n",
        "\n",
        "def ridge_regression_solution(X, y, alpha):\n",
        "  # Write your function here\n",
        "  return w\n",
        "\n",
        "def ridge_regression_gradient(w, X, y, alpha):\n",
        "  # Write your function here\n",
        "  return gradient\n",
        "\n",
        "w_star = ridge_regression_solution(X_boston_tr, y_boston_tr, alpha=0.1)\n",
        "\n",
        "gradient = ridge_regression_gradient(w_star, X_boston_tr, y_boston_tr, alpha=0.1)\n",
        "np.sqrt(np.sum(gradient ** 2))"
      ],
      "execution_count": null,
      "outputs": [
        {
          "output_type": "execute_result",
          "data": {
            "text/plain": [
              "1.5704672211782347e-09"
            ]
          },
          "metadata": {
            "tags": []
          },
          "execution_count": 2
        }
      ]
    },
    {
      "cell_type": "markdown",
      "metadata": {
        "colab_type": "text",
        "id": "a4wef-U2CGVX"
      },
      "source": [
        "**Exercise 2.** Train the models for several possible values of alpha (see below). Plot the mean squared error on the test set as a function of alpha. Use the validation data to find the best alpha and display it on the graph using a circle."
      ]
    },
    {
      "cell_type": "code",
      "metadata": {
        "colab_type": "code",
        "id": "aWDX9MAfC_5I",
        "colab": {
          "base_uri": "https://localhost:8080/",
          "height": 269
        },
        "outputId": "fc5271ef-cf04-40a0-efa7-acf94f9c3133"
      },
      "source": [
        "alphas = np.logspace(-3, 3, 20)"
      ],
      "execution_count": null,
      "outputs": [
        {
          "output_type": "display_data",
          "data": {
            "image/png": "[encoded data removed]",
            "text/plain": [
              "<Figure size 432x288 with 1 Axes>"
            ]
          },
          "metadata": {
            "tags": [],
            "needs_background": "light"
          }
        }
      ]
    },
    {
      "cell_type": "markdown",
      "metadata": {
        "colab_type": "text",
        "id": "jm9fAF9FDAVO"
      },
      "source": [
        "**Bonus exercise.** Implement a scikit-learn compatible estimator class (with fit and predict methods). Compare that you obtain the same results as `sklearn.linear_model.Ridge(fit_intercept=False)`."
      ]
    },
    {
      "cell_type": "code",
      "metadata": {
        "colab_type": "code",
        "id": "oRYP-c94qTrz",
        "colab": {
          "base_uri": "https://localhost:8080/",
          "height": 85
        },
        "outputId": "4b599acd-4b0c-4f01-915f-867365460bef"
      },
      "source": [
        "from sklearn.base import BaseEstimator, RegressorMixin\n",
        "\n",
        "class MyRidge(BaseEstimator, RegressorMixin):\n",
        "  def __init__(self, alpha=1.0):\n",
        "    self.alpha = alpha\n",
        "\n",
        "  def fit(self, X, y):\n",
        "    # Write your code here\n",
        "    return self\n",
        "\n",
        "  def predict(self, X):\n",
        "    # Write your code here\n",
        "    return\n",
        "\n",
        "from sklearn.linear_model import Ridge\n",
        "\n",
        "print(MyRidge().fit(X_boston_tr, y_boston_tr).predict(X_boston_te)[:10])\n",
        "print(Ridge(fit_intercept=False).fit(X_boston_tr, y_boston_tr).predict(X_boston_te)[:10])"
      ],
      "execution_count": null,
      "outputs": [
        {
          "output_type": "stream",
          "text": [
            "[29.02919442 24.23132079 22.01189693 23.33453274 27.38233833 18.17573078\n",
            " 19.96559054 22.42317482 18.90765316 27.76476332]\n",
            "[29.02919442 24.23132079 22.01189693 23.33453274 27.38233833 18.17573078\n",
            " 19.96559054 22.42317482 18.90765316 27.76476332]\n"
          ],
          "name": "stdout"
        }
      ]
    },
    {
      "cell_type": "markdown",
      "metadata": {
        "colab_type": "text",
        "id": "8URXWS49Dhmc"
      },
      "source": [
        "## Logistic regression"
      ]
    },
    {
      "cell_type": "code",
      "metadata": {
        "colab_type": "code",
        "id": "E6rPbJE6EPbZ",
        "colab": {}
      },
      "source": [
        "from sklearn.datasets import load_iris\n",
        "\n",
        "X_iris, y_iris = load_iris(return_X_y=True)\n",
        "# Keep only two classes for this exercise.\n",
        "X_iris = X_iris[y_iris <= 1]\n",
        "y_iris = y_iris[y_iris <= 1]"
      ],
      "execution_count": null,
      "outputs": []
    },
    {
      "cell_type": "markdown",
      "metadata": {
        "colab_type": "text",
        "id": "APsoy2dQHceV"
      },
      "source": [
        "**Exercise 3.** Make a function that computes \n",
        "$$\n",
        "\\text{softplus}(u) = \\log(1 + e^u)\n",
        "$$\n",
        "and notice that its derivative is\n",
        "$$\n",
        "(\\text{softplus}(u))' = \\frac{e^u}{1 + e^u} = \\frac{1}{1 + e^{-u}} = \\text{sigmoid}(u).\n",
        "$$\n",
        "Using the finite difference formula $f'(u) \\approx \\frac{f(u + \\epsilon) - f(u)}{\\epsilon}$ where epsilon is small value (e.g. 10^-6), check that the derivative of softplus is indeed the sigmoid."
      ]
    },
    {
      "cell_type": "code",
      "metadata": {
        "colab_type": "code",
        "id": "MQGEYam4IYSc",
        "colab": {
          "base_uri": "https://localhost:8080/",
          "height": 68
        },
        "outputId": "c0ed22cc-e55a-4a9c-ac3b-dbce3f267aa6"
      },
      "source": [
        "import numpy as np\n",
        "from scipy.special import expit as sigmoid\n",
        "\n",
        "print(softplus(3))\n",
        "print(finite_difference(softplus, 3))\n",
        "print(sigmoid(3))"
      ],
      "execution_count": null,
      "outputs": [
        {
          "output_type": "stream",
          "text": [
            "3.048587351573742\n",
            "0.9525741493376927\n",
            "0.9525741268224334\n"
          ],
          "name": "stdout"
        }
      ]
    },
    {
      "cell_type": "markdown",
      "metadata": {
        "colab_type": "text",
        "id": "230EfSR_Elw0"
      },
      "source": [
        "**Exercise 4.** \n",
        "Make a function that computes the likelihood\n",
        "$$\n",
        "\\text{likelihood}(u_i, y_i) = y_i \\log \\text{sigmoid}(u_i) + (1-y_i) \\log (1-\\text{sigmoid}(u_i))\n",
        "$$\n",
        "where $u_i = \\mathbf{w}^\\top \\mathbf{x}_i$.\n",
        "Using\n",
        "$$\n",
        "\\log \\text{sigmoid}(u) = -\\text{softplus}(-u)\n",
        "$$\n",
        "and\n",
        "$$\n",
        "\\log(1 - \\text{sigmoid}(u)) = -\\text{softplus}(u)\n",
        "$$\n",
        "make a function that computes the derivative of $\\text{likelihood}(u_i, y_i)$ with respect to $u_i$. Check the result by finite difference. Be careful of signs!"
      ]
    },
    {
      "cell_type": "code",
      "metadata": {
        "colab_type": "code",
        "id": "Yj7jUsRhS7BO",
        "colab": {
          "base_uri": "https://localhost:8080/",
          "height": 51
        },
        "outputId": "338a77ce-7378-4044-ace9-5fbe087353ae"
      },
      "source": [
        "def likelihood(u_i, y_i):\n",
        "  # Write function here\n",
        "  return\n",
        "\n",
        "def likelihood_derivative(u_i, y_i):\n",
        "  # Write function here\n",
        "  return \n",
        "  \n",
        "print(likelihood_derivative(3, 1))\n",
        "print(finite_difference(likelihood, 3, 1))"
      ],
      "execution_count": null,
      "outputs": [
        {
          "output_type": "stream",
          "text": [
            "0.04742587317756678\n",
            "0.04742585039269054\n"
          ],
          "name": "stdout"
        }
      ]
    },
    {
      "cell_type": "markdown",
      "metadata": {
        "colab_type": "text",
        "id": "3BS3nztaQ9q6"
      },
      "source": [
        "**Exercise 5.** Write a function that implements the penalized objective function\n",
        "$$\n",
        "L(\\mathbf{w})\n",
        "= -\\sum_{i=1}^n y_i \\log \\text{sigmoid}(\\mathbf{w}^\\top \\mathbf{x}_i) + (1-y_i) \\log (1-\\text{sigmoid}(\\mathbf{w}^\\top \\mathbf{x}_i)) + \\frac{\\alpha}{2} \\|\\mathbf{w}\\|^2\n",
        "$$\n",
        "and another function that computes its gradient. Reuse `likelihood(u_i, y_i)` and `likelihood_derivative(u_i, y_i)` (you can use a for loop). Check that the gradient is correct using finite differences."
      ]
    },
    {
      "cell_type": "code",
      "metadata": {
        "colab_type": "code",
        "id": "zvH8ea1RHbY7",
        "colab": {
          "base_uri": "https://localhost:8080/",
          "height": 51
        },
        "outputId": "ff631ed9-23ab-43f6-bb82-b60de33674bd"
      },
      "source": [
        "def objective_value(w, X, y, alpha):\n",
        "  # Write function here\n",
        "  return\n",
        "\n",
        "def objective_gradient(w, X, y, alpha):\n",
        "  # Write function here\n",
        "  return\n",
        "\n",
        "def finite_difference_gradient(func, w, *args, eps=1e-6):\n",
        "  gradient = np.zeros_like(w)\n",
        "  for j in range(len(w)):\n",
        "    e_j = np.zeros(len(w))\n",
        "    e_j[j] = 1\n",
        "    gradient[j] = (func(w + eps * e_j, *args) - func(w, *args)) / eps\n",
        "  return gradient\n",
        "\n",
        "n_samples, n_features = X_iris.shape\n",
        "w = np.random.randn(n_features)\n",
        "alpha = 0.1\n",
        "print(objective_gradient(w, X_iris, y_iris, alpha))\n",
        "print(finite_difference_gradient(objective_value, w, X_iris, y_iris, alpha))"
      ],
      "execution_count": null,
      "outputs": [
        {
          "output_type": "stream",
          "text": [
            "[-10.90033253   0.78517336 -18.02812064  -6.32085999]\n",
            "[-10.90018063   0.78522077 -18.02806907  -6.32085538]\n"
          ],
          "name": "stdout"
        }
      ]
    },
    {
      "cell_type": "markdown",
      "metadata": {
        "colab_type": "text",
        "id": "YcG3xB4uc3Q0"
      },
      "source": [
        "**Exercise 6.** Implement gradient descent. Check that the objective value is decreasing. Plot the objective value as a function of the number of iterations."
      ]
    },
    {
      "cell_type": "code",
      "metadata": {
        "colab_type": "code",
        "id": "OgYmz3W5dBes",
        "colab": {
          "base_uri": "https://localhost:8080/",
          "height": 265
        },
        "outputId": "26945858-463f-469c-ea4b-05784a86b1d6"
      },
      "source": [
        "def gradient_descent(value_function, gradient_function, w_init, *args, \n",
        "                     step_size=1e-4, num_iterations=1000):\n",
        "  \n",
        "  values = []\n",
        "  w = w_init\n",
        "  # Write gradient descent iteration here.\n",
        "  return values\n",
        "\n",
        "n_samples, n_features = X_iris.shape\n",
        "w_init = np.random.randn(n_features)\n",
        "values = gradient_descent(objective_value, objective_gradient, w, X_iris, y_iris, alpha)\n",
        "\n",
        "import matplotlib.pyplot as plt\n",
        "plt.figure()\n",
        "plt.plot(np.arange(len(values)), values)\n",
        "plt.show()"
      ],
      "execution_count": null,
      "outputs": [
        {
          "output_type": "display_data",
          "data": {
            "image/png": "[encoded data removed]",
            "text/plain": [
              "<Figure size 432x288 with 1 Axes>"
            ]
          },
          "metadata": {
            "tags": [],
            "needs_background": "light"
          }
        }
      ]
    },
    {
      "cell_type": "markdown",
      "metadata": {
        "colab_type": "text",
        "id": "vKshmyVEf5At"
      },
      "source": [
        "**Exercise 7.** Rewrite `objective_value` and `objective_gradient` without for loop. Check the correctness of your implementation against the version with a for loop."
      ]
    },
    {
      "cell_type": "code",
      "metadata": {
        "colab_type": "code",
        "id": "GtIL0DQLgnh9",
        "colab": {
          "base_uri": "https://localhost:8080/",
          "height": 85
        },
        "outputId": "bb151811-910f-46e2-bedb-3031499b5e73"
      },
      "source": [
        "def objective_value_no_loop(w, X, y, alpha):\n",
        "  # Write your code here\n",
        "  return \n",
        "\n",
        "def objective_gradient_no_loop(w, X, y, alpha):\n",
        "  # Write your code here\n",
        "  return\n",
        "\n",
        "n_samples, n_features = X_iris.shape\n",
        "w = np.random.randn(n_features)\n",
        "alpha = 0.1\n",
        "print(objective_value(w, X_iris, y_iris, alpha))\n",
        "print(objective_value_no_loop(w, X_iris, y_iris, alpha))\n",
        "print(objective_gradient(w, X_iris, y_iris, alpha))\n",
        "print(objective_gradient_no_loop(w, X_iris, y_iris, alpha))"
      ],
      "execution_count": null,
      "outputs": [
        {
          "output_type": "stream",
          "text": [
            "496.88245421064147\n",
            "496.8824542106415\n",
            "[250.39537028 171.49335641  73.11263942  12.28640433]\n",
            "[250.39537028 171.49335641  73.11263942  12.28640433]\n"
          ],
          "name": "stdout"
        }
      ]
    },
    {
      "cell_type": "markdown",
      "metadata": {
        "colab_type": "text",
        "id": "0gdsqbPEiroi"
      },
      "source": [
        "Time the two implementations."
      ]
    },
    {
      "cell_type": "code",
      "metadata": {
        "colab_type": "code",
        "id": "rqHQJjA8iv05",
        "colab": {
          "base_uri": "https://localhost:8080/",
          "height": 68
        },
        "outputId": "86b9b4f3-2166-4415-f414-21c2b2f7ba28"
      },
      "source": [
        "%time objective_value(w, X_iris, y_iris, alpha)"
      ],
      "execution_count": null,
      "outputs": [
        {
          "output_type": "stream",
          "text": [
            "CPU times: user 3.56 ms, sys: 0 ns, total: 3.56 ms\n",
            "Wall time: 3.07 ms\n"
          ],
          "name": "stdout"
        },
        {
          "output_type": "execute_result",
          "data": {
            "text/plain": [
              "496.88245421064147"
            ]
          },
          "metadata": {
            "tags": []
          },
          "execution_count": 11
        }
      ]
    },
    {
      "cell_type": "code",
      "metadata": {
        "colab_type": "code",
        "id": "BIWzhYOyi0df",
        "colab": {
          "base_uri": "https://localhost:8080/",
          "height": 68
        },
        "outputId": "14ae543a-d12c-4ed7-de02-615dd658f9cc"
      },
      "source": [
        "%time objective_value_no_loop(w, X_iris, y_iris, alpha)"
      ],
      "execution_count": null,
      "outputs": [
        {
          "output_type": "stream",
          "text": [
            "CPU times: user 180 µs, sys: 0 ns, total: 180 µs\n",
            "Wall time: 157 µs\n"
          ],
          "name": "stdout"
        },
        {
          "output_type": "execute_result",
          "data": {
            "text/plain": [
              "496.8824542106415"
            ]
          },
          "metadata": {
            "tags": []
          },
          "execution_count": 12
        }
      ]
    },
    {
      "cell_type": "markdown",
      "metadata": {
        "colab_type": "text",
        "id": "ZFWxXpj_riZp"
      },
      "source": [
        "# Lecture 2"
      ]
    },
    {
      "cell_type": "markdown",
      "metadata": {
        "id": "X4VsRice8VqR",
        "colab_type": "text"
      },
      "source": [
        "# Stochastic gradient descent"
      ]
    },
    {
      "cell_type": "markdown",
      "metadata": {
        "id": "8HoXxpkV8VqR",
        "colab_type": "text"
      },
      "source": [
        "We will focus on the Boston dataset and ridge regression. We will start by scaling the dataset"
      ]
    },
    {
      "cell_type": "code",
      "metadata": {
        "id": "rpLM1kao8VqR",
        "colab_type": "code",
        "colab": {}
      },
      "source": [
        "from sklearn.preprocessing import StandardScaler\n",
        "\n",
        "X = StandardScaler().fit_transform(X_boston)\n",
        "y = y_boston - y_boston.mean()\n",
        "y /= np.std(y_boston)"
      ],
      "execution_count": null,
      "outputs": []
    },
    {
      "cell_type": "markdown",
      "metadata": {
        "id": "dfainsjR8VqT",
        "colab_type": "text"
      },
      "source": [
        "**Exercise 8.** Write a function that computes the stochastic gradient of ridge regression\n",
        "$$\n",
        "L(\\mathbf{w}) = \\frac{1}{n} \\|\\mathbf{y} - \\mathbf{X} \\mathbf{w}\\|^2 \n",
        "+ \\frac{\\alpha}{2} \\|\\mathbf{w}\\|^2\n",
        "$$\n",
        "(notice the 1/n factor).\n",
        "\n",
        "Check that the mean of the stochastic gradients gives the gradient."
      ]
    },
    {
      "cell_type": "code",
      "metadata": {
        "id": "gyYNDeCw8VqT",
        "colab_type": "code",
        "colab": {},
        "outputId": "07738a2d-ed03-449f-c09b-bdd8387c3cf0"
      },
      "source": [
        "def ridge_objective(w, X, y, alpha):\n",
        "  # Write your code here\n",
        "  return \n",
        "\n",
        "\n",
        "def ridge_gradient(w, X, y, alpha):\n",
        "  # Write your code here\n",
        "  return\n",
        "\n",
        "def stochastic_gradient(w, i, X, y, alpha):\n",
        "  # Write your code here\n",
        "  return\n",
        "\n"
      ],
      "execution_count": null,
      "outputs": [
        {
          "output_type": "stream",
          "text": [
            "[ 2.74975329 -7.56607978  7.48728688 -0.47072923  7.57452968 -4.29253731\n",
            "  7.01977334 -7.49821066  5.75917508  5.98113509  3.01250338 -6.24081487\n",
            "  6.46236651]\n",
            "[ 2.74975329 -7.56607978  7.48728688 -0.47072923  7.57452968 -4.29253731\n",
            "  7.01977334 -7.49821066  5.75917508  5.98113509  3.01250338 -6.24081487\n",
            "  6.46236651]\n"
          ],
          "name": "stdout"
        }
      ]
    },
    {
      "cell_type": "markdown",
      "metadata": {
        "id": "dIyIKxau8VqV",
        "colab_type": "text"
      },
      "source": [
        "**Exercise 9.** Write a function that implements stochastic gradient descent. Implement two rules for sampling the index: cyclic, and at random. Compare the convergence of both algorithms. What is the role of the step size?\n",
        "\n",
        "You should especially look at the convergence speed and the value at which the algorithm plateaus."
      ]
    },
    {
      "cell_type": "code",
      "metadata": {
        "id": "pkcj3zn18VqW",
        "colab_type": "code",
        "colab": {},
        "outputId": "b8bf191b-8a72-4a75-ed1b-c4d172c1502f"
      },
      "source": [
        "def stochastic_gradient_descent(value_function, gradient_function, w_init, idx_list, *args,\n",
        "                                step_size=1e-4, num_iterations=1000):\n",
        "  \n",
        "  values = []\n",
        "  w = w_init\n",
        "  # Write SGD code here\n",
        "  return values\n",
        "\n"
      ],
      "execution_count": null,
      "outputs": [
        {
          "output_type": "display_data",
          "data": {
            "image/png": "[encoded data removed]",
            "text/plain": [
              "<Figure size 432x288 with 1 Axes>"
            ]
          },
          "metadata": {
            "tags": [],
            "needs_background": "light"
          }
        },
        {
          "output_type": "stream",
          "text": [
            "0.28869638566059846\n",
            "0.2893135046292728\n",
            "0.34628829521140064\n"
          ],
          "name": "stdout"
        },
        {
          "output_type": "display_data",
          "data": {
            "image/png": "[encoded data removed]",
            "text/plain": [
              "<Figure size 432x288 with 1 Axes>"
            ]
          },
          "metadata": {
            "tags": [],
            "needs_background": "light"
          }
        }
      ]
    },
    {
      "cell_type": "markdown",
      "metadata": {
        "id": "NXAGCMLH8VqX",
        "colab_type": "text"
      },
      "source": [
        "# L-BFGS"
      ]
    },
    {
      "cell_type": "markdown",
      "metadata": {
        "id": "sXrQ7waY8VqY",
        "colab_type": "text"
      },
      "source": [
        "L-BFGS is the go-to second order method. It is already implemented in `scipy`:"
      ]
    },
    {
      "cell_type": "code",
      "metadata": {
        "id": "4-4jfEsV8VqY",
        "colab_type": "code",
        "colab": {}
      },
      "source": [
        "from scipy.optimize import fmin_l_bfgs_b"
      ],
      "execution_count": null,
      "outputs": []
    },
    {
      "cell_type": "markdown",
      "metadata": {
        "id": "LuaI7Gpj8Vqa",
        "colab_type": "text"
      },
      "source": [
        "**Exercise 10.** Use the L-BFGS code to optimize the logistic regression on the Iris dataset. Compare it with your gradient descent.\n",
        "\n",
        "Hint: in order to store the function values, you can use the callback function in `fmin_l_bfgs_b`. Don't forget to read the documentation !"
      ]
    },
    {
      "cell_type": "code",
      "metadata": {
        "id": "ZcGjCq098Vqa",
        "colab_type": "code",
        "colab": {},
        "outputId": "8720d8a8-dabb-4964-f688-48f695eb23c4"
      },
      "source": [
        "class callback(object):\n",
        "    def __init__(self):\n",
        "        self.values = []\n",
        "    \n",
        "    def __call__(self, w):\n",
        "        self.values.append(objective_value_no_loop(w, X_iris, y_iris, alpha))\n",
        "    "
      ],
      "execution_count": null,
      "outputs": [
        {
          "output_type": "display_data",
          "data": {
            "image/png": "[encoded data removed]",
            "text/plain": [
              "<Figure size 432x288 with 1 Axes>"
            ]
          },
          "metadata": {
            "tags": [],
            "needs_background": "light"
          }
        }
      ]
    },
    {
      "cell_type": "code",
      "metadata": {
        "id": "9y9gXdRc8Vqc",
        "colab_type": "code",
        "colab": {}
      },
      "source": [
        ""
      ],
      "execution_count": null,
      "outputs": []
    }
  ]
}
