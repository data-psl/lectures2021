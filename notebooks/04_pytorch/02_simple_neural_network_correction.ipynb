{
  "nbformat": 4,
  "nbformat_minor": 0,
  "metadata": {
    "kernelspec": {
      "display_name": "Python 3",
      "language": "python",
      "name": "python3"
    },
    "language_info": {
      "codemirror_mode": {
        "name": "ipython",
        "version": 3
      },
      "file_extension": ".py",
      "mimetype": "text/x-python",
      "name": "python",
      "nbconvert_exporter": "python",
      "pygments_lexer": "ipython3",
      "version": "3.7.7"
    },
    "colab": {
      "name": "02_simple_neural_network_correction.ipynb",
      "provenance": []
    }
  },
  "cells": [
    {
      "cell_type": "markdown",
      "metadata": {
        "id": "XYDpjIQvptII"
      },
      "source": [
        "# Simple neural network\n",
        "\n",
        "\n",
        "In this notebook, we are going to create and train a simple neural network on the digits dataset using pytorch."
      ]
    },
    {
      "cell_type": "code",
      "metadata": {
        "id": "d331qHuTptIL"
      },
      "source": [
        "import torch\n",
        "import numpy as np\n",
        "import matplotlib.pyplot as plt\n",
        "\n",
        "from sklearn.datasets import load_digits\n",
        "from sklearn.model_selection import train_test_split"
      ],
      "execution_count": null,
      "outputs": []
    },
    {
      "cell_type": "markdown",
      "metadata": {
        "id": "coi5tDrYptIN"
      },
      "source": [
        "First, we need to load the data and make them into pytorch tensors."
      ]
    },
    {
      "cell_type": "code",
      "metadata": {
        "scrolled": true,
        "colab": {
          "base_uri": "https://localhost:8080/",
          "height": 146
        },
        "id": "eg0-Y91xptIN",
        "outputId": "355994bf-066e-45f8-a9eb-68660a35f018"
      },
      "source": [
        "X, y = load_digits(return_X_y=True)\n",
        "\n",
        "# Normalize\n",
        "\n",
        "X -= X.mean(axis=0)\n",
        "X /= np.std(X)\n",
        "X_train, X_test, y_train, y_test = train_test_split(X, y)\n",
        "\n",
        "f, axes = plt.subplots(1, 3)\n",
        "for i, axe in enumerate(axes):\n",
        "    axe.imshow(X[i].reshape(8, 8))\n",
        "\n",
        "x = torch.tensor(X_train).float()\n",
        "y = torch.tensor(y_train).long()\n",
        "n, p = x.shape\n",
        "x_test = torch.tensor(X_test).float()\n",
        "y_test = torch.tensor(y_test).long()"
      ],
      "execution_count": null,
      "outputs": [
        {
          "output_type": "display_data",
          "data": {
            "image/png": "[encoded data removed]",
            "text/plain": [
              "<Figure size 432x288 with 3 Axes>"
            ]
          },
          "metadata": {
            "needs_background": "light"
          }
        }
      ]
    },
    {
      "cell_type": "markdown",
      "metadata": {
        "id": "4Fl5PPa6ptIN"
      },
      "source": [
        "# Define the network\n",
        "\n",
        "We will work with a simple network with two layers (one hidden layer).\n",
        "\n",
        "The input $x$ is transformed into the output $z$ by the following operations:\n",
        "\n",
        "$$y = \\tanh(W_1x + b_1)$$\n",
        "$$z = W_2y + b_2$$\n",
        "\n",
        "**Exercise 1**: Define a function `net(x, W1, b1, W2, b2)` that implements this transform. Remember that `x` is a matrix of size $n\\times p$"
      ]
    },
    {
      "cell_type": "code",
      "metadata": {
        "id": "ggaCnLEEptIO"
      },
      "source": [
        "def net(x, W1, b1, W2, b2):\n",
        "  # x.shape == (n, p)\n",
        "  # W1.shape == (p, d)\n",
        "  # b1 == (d, )\n",
        "  y = torch.tanh(x @ W1 + b1[None, :])\n",
        "  # y.shape = (n, d)\n",
        "  # W2.shape = (d, N)\n",
        "  z = y @ W2 + b2[None, :]\n",
        "  # z = torch.mm(y, W2) + b2\n",
        "  # z.shape == (n, N)\n",
        "  return z"
      ],
      "execution_count": null,
      "outputs": []
    },
    {
      "cell_type": "markdown",
      "metadata": {
        "id": "1FiobBKkptIO"
      },
      "source": [
        "Next, let us specify the parameters of the network, `W1, b1, W2, b2`. You can chose the size of the hidden layer, but the input and output sizes are determined by the problem.\n",
        "\n",
        "**Exercise 2**: Define a set of parameters `W1, b1, W2, b2`, where you chose the size of the hidden layer. Make sure that all these parameters have their `requires_grad` flag set to true, so that we can compute the gradient with respect to them.\n",
        "\n",
        "In order to check that eveything works, compute `net(x, W1, b1, W2, b2)`."
      ]
    },
    {
      "cell_type": "code",
      "metadata": {
        "id": "AkY8VMRQptIP"
      },
      "source": [
        "hidden_size = 20\n",
        "input_size = 64\n",
        "output_size = 10\n",
        "\n",
        "W1 = torch.randn(input_size, hidden_size) / np.sqrt(input_size)\n",
        "W1.requires_grad = True\n",
        "b1 = torch.zeros(hidden_size)\n",
        "b1.requires_grad = True\n",
        "W2 = torch.randn(hidden_size, output_size) / np.sqrt(hidden_size)\n",
        "W2.requires_grad = True\n",
        "b2 = torch.zeros(output_size)\n",
        "b2.requires_grad = True\n",
        "output = net(x, W1, b1, W2, b2)"
      ],
      "execution_count": null,
      "outputs": []
    },
    {
      "cell_type": "code",
      "metadata": {
        "colab": {
          "base_uri": "https://localhost:8080/"
        },
        "id": "vVDAE6bitq8w",
        "outputId": "2817cef9-b272-40c5-fba1-741fad8166dc"
      },
      "source": [
        "output.shape"
      ],
      "execution_count": null,
      "outputs": [
        {
          "output_type": "execute_result",
          "data": {
            "text/plain": [
              "torch.Size([1347, 10])"
            ]
          },
          "metadata": {},
          "execution_count": 42
        }
      ]
    },
    {
      "cell_type": "markdown",
      "metadata": {
        "id": "XRXDlmY0ptIQ"
      },
      "source": [
        "Next, we will define a cost function. We will use the classical cross entropy loss. It is imported from pytorch in the next cell."
      ]
    },
    {
      "cell_type": "code",
      "metadata": {
        "id": "DzYoC3BKptIQ"
      },
      "source": [
        "from torch.nn.functional import cross_entropy"
      ],
      "execution_count": null,
      "outputs": []
    },
    {
      "cell_type": "markdown",
      "metadata": {
        "id": "PrEfl1bzptIQ"
      },
      "source": [
        "**Exercise 3**: Compute the current loss of the network, and then back-propagate to compute the gradient with respect to the parameters. Check the gradient with respect to W1."
      ]
    },
    {
      "cell_type": "code",
      "metadata": {
        "scrolled": true,
        "id": "AYaYHihaptIQ"
      },
      "source": [
        "loss = cross_entropy(input=output, target=y, reduction='mean')"
      ],
      "execution_count": null,
      "outputs": []
    },
    {
      "cell_type": "code",
      "metadata": {
        "colab": {
          "base_uri": "https://localhost:8080/"
        },
        "id": "fmNQhzP7xlxQ",
        "outputId": "6f5a6c7c-7487-401a-fb18-96c6fc38de3a"
      },
      "source": [
        "loss.shape"
      ],
      "execution_count": null,
      "outputs": [
        {
          "output_type": "execute_result",
          "data": {
            "text/plain": [
              "torch.Size([])"
            ]
          },
          "metadata": {},
          "execution_count": 45
        }
      ]
    },
    {
      "cell_type": "markdown",
      "metadata": {
        "id": "kiOqmbtOptIR"
      },
      "source": [
        "We are almost ready to train our network!\n",
        "\n",
        "But first, we will need to compute the accuracy of the network, on the train and test set.\n",
        "\n",
        "**Exercise 4**: Define a function `accuracy(X, y, W1, b1, W2, b2)` that computes the accuracy of the network on the dataset `x`with true labels `y`. Remember that the predicted class at the output of the network is computed as the argmaximum of the output. Compute the current accuracy of the network on the train set. Is it normal ?"
      ]
    },
    {
      "cell_type": "code",
      "metadata": {
        "id": "8Vx9X9xAybLK"
      },
      "source": [
        "  f = net(x, W1, b1, W2, b2)\n",
        "  pred = torch.argmax(f, axis=1)"
      ],
      "execution_count": null,
      "outputs": []
    },
    {
      "cell_type": "code",
      "metadata": {
        "colab": {
          "base_uri": "https://localhost:8080/"
        },
        "id": "gHkS46NRz5cx",
        "outputId": "2a613fe5-df2c-4575-b5fe-ce276a45527f"
      },
      "source": [
        "y.shape"
      ],
      "execution_count": null,
      "outputs": [
        {
          "output_type": "execute_result",
          "data": {
            "text/plain": [
              "torch.Size([1347])"
            ]
          },
          "metadata": {},
          "execution_count": 47
        }
      ]
    },
    {
      "cell_type": "code",
      "metadata": {
        "id": "y9i7Jy4d0C8P"
      },
      "source": [
        "match = pred == y"
      ],
      "execution_count": null,
      "outputs": []
    },
    {
      "cell_type": "code",
      "metadata": {
        "colab": {
          "base_uri": "https://localhost:8080/"
        },
        "id": "mB-zUyy00Ov3",
        "outputId": "53e12832-4fb3-4b60-985e-63c7027478b7"
      },
      "source": [
        "match.shape"
      ],
      "execution_count": null,
      "outputs": [
        {
          "output_type": "execute_result",
          "data": {
            "text/plain": [
              "torch.Size([1347])"
            ]
          },
          "metadata": {},
          "execution_count": 49
        }
      ]
    },
    {
      "cell_type": "code",
      "metadata": {
        "colab": {
          "base_uri": "https://localhost:8080/"
        },
        "id": "bzlpa1AE0TD0",
        "outputId": "1318dd84-b236-402b-8d46-b9734dc6e481"
      },
      "source": [
        "match.float().mean()"
      ],
      "execution_count": null,
      "outputs": [
        {
          "output_type": "execute_result",
          "data": {
            "text/plain": [
              "tensor(0.1062)"
            ]
          },
          "metadata": {},
          "execution_count": 50
        }
      ]
    },
    {
      "cell_type": "code",
      "metadata": {
        "colab": {
          "base_uri": "https://localhost:8080/"
        },
        "id": "5CFnaUFvptIR",
        "outputId": "e3edd116-a541-466b-82ae-145b019f5f2d"
      },
      "source": [
        "def accuracy(x, y, W1, b1, W2, b2):\n",
        "  f = net(x, W1, b1, W2, b2)\n",
        "  pred = torch.argmax(f, axis=1)\n",
        "  match = pred == y\n",
        "  accuracy = match.float().mean()\n",
        "  return accuracy\n",
        "\n",
        "accuracy(x, y, W1, b1, W2, b2)"
      ],
      "execution_count": null,
      "outputs": [
        {
          "output_type": "execute_result",
          "data": {
            "text/plain": [
              "tensor(0.1062)"
            ]
          },
          "metadata": {},
          "execution_count": 51
        }
      ]
    },
    {
      "cell_type": "markdown",
      "metadata": {
        "id": "PuHEvr-HptIR"
      },
      "source": [
        "# Training the network\n",
        "\n",
        "We are now ready to train the network, using back-propagation and stochastic gradient descent.\n",
        "First, we define the number of iterations of the algorithm, the step size, and the batch size. We also reinitialize the weights. Finally, we will store the train and test accuracy during the training."
      ]
    },
    {
      "cell_type": "code",
      "metadata": {
        "id": "l75G-7UxptIS"
      },
      "source": [
        "n_iter = 1000\n",
        "step_size = 0.1\n",
        "batch_size = 64\n",
        "\n",
        "test_list = []\n",
        "train_list = []"
      ],
      "execution_count": null,
      "outputs": []
    },
    {
      "cell_type": "markdown",
      "metadata": {
        "id": "DIZDURuPptIS"
      },
      "source": [
        "**Exercise 5**: Complete the following training list, so that each parameter is updated at each iteration.\n",
        "\n",
        "Remember that at each iteration, you should:\n",
        "* compute the output of the network with respect to the batch\n",
        "* Compute the loss, and backpropagate\n",
        "* Update each parameter with gradient descent\n",
        "* Refresh the gradient of each parameter. To do so, you can do:\n",
        "\n",
        "```\n",
        "W1 = W1.detach()\n",
        "W1.requires_grad=True\n",
        "```"
      ]
    },
    {
      "cell_type": "code",
      "metadata": {
        "colab": {
          "base_uri": "https://localhost:8080/"
        },
        "id": "BtRzH1Vw1_NX",
        "outputId": "93fcb210-1f90-4209-80eb-e5560349ca54"
      },
      "source": [
        "W1.requires_grad"
      ],
      "execution_count": null,
      "outputs": [
        {
          "output_type": "execute_result",
          "data": {
            "text/plain": [
              "True"
            ]
          },
          "metadata": {},
          "execution_count": 54
        }
      ]
    },
    {
      "cell_type": "code",
      "metadata": {
        "colab": {
          "base_uri": "https://localhost:8080/"
        },
        "id": "l5WHj_0T2B0q",
        "outputId": "cc293417-4974-4689-d179-fa7c4412a920"
      },
      "source": [
        "loss."
      ],
      "execution_count": null,
      "outputs": [
        {
          "output_type": "execute_result",
          "data": {
            "text/plain": [
              "tensor(2.4075, grad_fn=<NllLossBackward>)"
            ]
          },
          "metadata": {},
          "execution_count": 55
        }
      ]
    },
    {
      "cell_type": "code",
      "metadata": {
        "id": "BkTAEZoe1dzu"
      },
      "source": [
        "W1.data = W1.data - step_size * W1.grad\n",
        "W1.grad.zero_()"
      ],
      "execution_count": null,
      "outputs": []
    },
    {
      "cell_type": "code",
      "metadata": {
        "colab": {
          "base_uri": "https://localhost:8080/"
        },
        "id": "i34qSU811tgG",
        "outputId": "2ff02819-3110-4bc0-ab1a-3c15932206ab"
      },
      "source": [
        "W1.requires_grad"
      ],
      "execution_count": null,
      "outputs": [
        {
          "output_type": "execute_result",
          "data": {
            "text/plain": [
              "False"
            ]
          },
          "metadata": {},
          "execution_count": 40
        }
      ]
    },
    {
      "cell_type": "code",
      "metadata": {
        "scrolled": true,
        "colab": {
          "base_uri": "https://localhost:8080/"
        },
        "id": "QNO-cnP3ptIS",
        "outputId": "b1d4dca2-68bd-47e7-8ac1-06d963afe317"
      },
      "source": [
        "for i in range(n_iter):\n",
        "    # Selection of the batch here\n",
        "    batch_idx = torch.randperm(n)[:batch_size]\n",
        "    x_batch = x[batch_idx]\n",
        "    y_batch = y[batch_idx]\n",
        "    # YOUR CODE HERE: Compute the output of the network, the loss, and backpropagate\n",
        "    f_batch = net(x_batch, W1, b1, W2, b2)\n",
        "    loss = cross_entropy(f_batch, y_batch)\n",
        "    loss.backward()\n",
        "    \n",
        "    with torch.no_grad():\n",
        "      W1.data = W1.data - step_size * W1.grad\n",
        "      W1.grad.zero_()\n",
        "\n",
        "      W2.data = W2.data - step_size * W2.grad\n",
        "      W2.grad.zero_()\n",
        "      \n",
        "      b1.data = b1.data - step_size * b1.grad\n",
        "      b1.grad.zero_()\n",
        "\n",
        "      b2.data = b2.data - step_size * b2.grad\n",
        "      b2.grad.zero_()\n",
        "        \n",
        "    # Utility to print the current state of training\n",
        "    if i % 10 == 0:\n",
        "        with torch.no_grad():\n",
        "            train_acc = accuracy(x, y, W1, b1, W2, b2)\n",
        "            test_acc = accuracy(x_test, y_test, W1, b1, W2, b2)\n",
        "        test_list.append(test_acc)\n",
        "        train_list.append(train_acc)\n",
        "        print('Iteration {} Train loss: {:1.3f} Train acc: {:1.3f} Test acc {:1.3f}'.format(i, loss.item(), train_acc, test_acc))"
      ],
      "execution_count": null,
      "outputs": [
        {
          "output_type": "stream",
          "name": "stdout",
          "text": [
            "Iteration 0 Train loss: 2.395 Train acc: 0.146 Test acc 0.133\n",
            "Iteration 10 Train loss: 1.567 Train acc: 0.670 Test acc 0.660\n",
            "Iteration 20 Train loss: 1.109 Train acc: 0.836 Test acc 0.833\n",
            "Iteration 30 Train loss: 0.918 Train acc: 0.880 Test acc 0.891\n",
            "Iteration 40 Train loss: 0.691 Train acc: 0.899 Test acc 0.909\n",
            "Iteration 50 Train loss: 0.618 Train acc: 0.909 Test acc 0.911\n",
            "Iteration 60 Train loss: 0.502 Train acc: 0.918 Test acc 0.920\n",
            "Iteration 70 Train loss: 0.580 Train acc: 0.927 Test acc 0.931\n",
            "Iteration 80 Train loss: 0.455 Train acc: 0.931 Test acc 0.933\n",
            "Iteration 90 Train loss: 0.433 Train acc: 0.931 Test acc 0.940\n",
            "Iteration 100 Train loss: 0.351 Train acc: 0.936 Test acc 0.942\n",
            "Iteration 110 Train loss: 0.334 Train acc: 0.941 Test acc 0.938\n",
            "Iteration 120 Train loss: 0.457 Train acc: 0.948 Test acc 0.944\n",
            "Iteration 130 Train loss: 0.265 Train acc: 0.950 Test acc 0.944\n",
            "Iteration 140 Train loss: 0.188 Train acc: 0.950 Test acc 0.940\n",
            "Iteration 150 Train loss: 0.253 Train acc: 0.952 Test acc 0.953\n",
            "Iteration 160 Train loss: 0.230 Train acc: 0.952 Test acc 0.947\n",
            "Iteration 170 Train loss: 0.187 Train acc: 0.957 Test acc 0.953\n",
            "Iteration 180 Train loss: 0.192 Train acc: 0.961 Test acc 0.956\n",
            "Iteration 190 Train loss: 0.210 Train acc: 0.963 Test acc 0.956\n",
            "Iteration 200 Train loss: 0.149 Train acc: 0.964 Test acc 0.958\n",
            "Iteration 210 Train loss: 0.253 Train acc: 0.966 Test acc 0.951\n",
            "Iteration 220 Train loss: 0.134 Train acc: 0.965 Test acc 0.956\n",
            "Iteration 230 Train loss: 0.242 Train acc: 0.967 Test acc 0.956\n",
            "Iteration 240 Train loss: 0.158 Train acc: 0.971 Test acc 0.958\n",
            "Iteration 250 Train loss: 0.241 Train acc: 0.971 Test acc 0.958\n",
            "Iteration 260 Train loss: 0.213 Train acc: 0.974 Test acc 0.958\n",
            "Iteration 270 Train loss: 0.208 Train acc: 0.973 Test acc 0.958\n",
            "Iteration 280 Train loss: 0.177 Train acc: 0.975 Test acc 0.956\n",
            "Iteration 290 Train loss: 0.159 Train acc: 0.975 Test acc 0.958\n",
            "Iteration 300 Train loss: 0.164 Train acc: 0.975 Test acc 0.956\n",
            "Iteration 310 Train loss: 0.129 Train acc: 0.976 Test acc 0.956\n",
            "Iteration 320 Train loss: 0.093 Train acc: 0.977 Test acc 0.958\n",
            "Iteration 330 Train loss: 0.166 Train acc: 0.978 Test acc 0.958\n",
            "Iteration 340 Train loss: 0.099 Train acc: 0.978 Test acc 0.958\n",
            "Iteration 350 Train loss: 0.134 Train acc: 0.978 Test acc 0.960\n",
            "Iteration 360 Train loss: 0.077 Train acc: 0.979 Test acc 0.960\n",
            "Iteration 370 Train loss: 0.074 Train acc: 0.981 Test acc 0.960\n",
            "Iteration 380 Train loss: 0.107 Train acc: 0.982 Test acc 0.960\n",
            "Iteration 390 Train loss: 0.152 Train acc: 0.982 Test acc 0.960\n",
            "Iteration 400 Train loss: 0.137 Train acc: 0.981 Test acc 0.960\n",
            "Iteration 410 Train loss: 0.139 Train acc: 0.981 Test acc 0.962\n",
            "Iteration 420 Train loss: 0.075 Train acc: 0.981 Test acc 0.962\n",
            "Iteration 430 Train loss: 0.071 Train acc: 0.981 Test acc 0.958\n",
            "Iteration 440 Train loss: 0.100 Train acc: 0.982 Test acc 0.960\n",
            "Iteration 450 Train loss: 0.116 Train acc: 0.982 Test acc 0.960\n",
            "Iteration 460 Train loss: 0.107 Train acc: 0.983 Test acc 0.960\n",
            "Iteration 470 Train loss: 0.083 Train acc: 0.983 Test acc 0.960\n",
            "Iteration 480 Train loss: 0.125 Train acc: 0.984 Test acc 0.960\n",
            "Iteration 490 Train loss: 0.111 Train acc: 0.984 Test acc 0.962\n",
            "Iteration 500 Train loss: 0.075 Train acc: 0.985 Test acc 0.960\n",
            "Iteration 510 Train loss: 0.141 Train acc: 0.984 Test acc 0.962\n",
            "Iteration 520 Train loss: 0.088 Train acc: 0.986 Test acc 0.960\n",
            "Iteration 530 Train loss: 0.199 Train acc: 0.987 Test acc 0.964\n",
            "Iteration 540 Train loss: 0.080 Train acc: 0.986 Test acc 0.964\n",
            "Iteration 550 Train loss: 0.153 Train acc: 0.986 Test acc 0.962\n",
            "Iteration 560 Train loss: 0.132 Train acc: 0.986 Test acc 0.964\n",
            "Iteration 570 Train loss: 0.093 Train acc: 0.986 Test acc 0.964\n",
            "Iteration 580 Train loss: 0.079 Train acc: 0.986 Test acc 0.962\n",
            "Iteration 590 Train loss: 0.056 Train acc: 0.987 Test acc 0.969\n",
            "Iteration 600 Train loss: 0.064 Train acc: 0.987 Test acc 0.967\n",
            "Iteration 610 Train loss: 0.063 Train acc: 0.986 Test acc 0.962\n",
            "Iteration 620 Train loss: 0.101 Train acc: 0.989 Test acc 0.964\n",
            "Iteration 630 Train loss: 0.083 Train acc: 0.988 Test acc 0.964\n",
            "Iteration 640 Train loss: 0.103 Train acc: 0.990 Test acc 0.967\n",
            "Iteration 650 Train loss: 0.097 Train acc: 0.990 Test acc 0.962\n",
            "Iteration 660 Train loss: 0.067 Train acc: 0.989 Test acc 0.962\n",
            "Iteration 670 Train loss: 0.091 Train acc: 0.990 Test acc 0.964\n",
            "Iteration 680 Train loss: 0.104 Train acc: 0.989 Test acc 0.969\n",
            "Iteration 690 Train loss: 0.047 Train acc: 0.990 Test acc 0.969\n",
            "Iteration 700 Train loss: 0.058 Train acc: 0.990 Test acc 0.969\n",
            "Iteration 710 Train loss: 0.090 Train acc: 0.992 Test acc 0.967\n",
            "Iteration 720 Train loss: 0.096 Train acc: 0.992 Test acc 0.967\n",
            "Iteration 730 Train loss: 0.043 Train acc: 0.993 Test acc 0.967\n",
            "Iteration 740 Train loss: 0.057 Train acc: 0.993 Test acc 0.967\n",
            "Iteration 750 Train loss: 0.037 Train acc: 0.993 Test acc 0.967\n",
            "Iteration 760 Train loss: 0.078 Train acc: 0.993 Test acc 0.967\n",
            "Iteration 770 Train loss: 0.053 Train acc: 0.993 Test acc 0.967\n",
            "Iteration 780 Train loss: 0.053 Train acc: 0.993 Test acc 0.969\n",
            "Iteration 790 Train loss: 0.046 Train acc: 0.993 Test acc 0.971\n",
            "Iteration 800 Train loss: 0.067 Train acc: 0.993 Test acc 0.967\n",
            "Iteration 810 Train loss: 0.054 Train acc: 0.993 Test acc 0.967\n",
            "Iteration 820 Train loss: 0.060 Train acc: 0.995 Test acc 0.967\n",
            "Iteration 830 Train loss: 0.038 Train acc: 0.996 Test acc 0.967\n",
            "Iteration 840 Train loss: 0.058 Train acc: 0.996 Test acc 0.967\n",
            "Iteration 850 Train loss: 0.054 Train acc: 0.995 Test acc 0.967\n",
            "Iteration 860 Train loss: 0.043 Train acc: 0.995 Test acc 0.969\n",
            "Iteration 870 Train loss: 0.057 Train acc: 0.995 Test acc 0.967\n",
            "Iteration 880 Train loss: 0.078 Train acc: 0.996 Test acc 0.969\n",
            "Iteration 890 Train loss: 0.040 Train acc: 0.996 Test acc 0.967\n",
            "Iteration 900 Train loss: 0.059 Train acc: 0.996 Test acc 0.967\n",
            "Iteration 910 Train loss: 0.044 Train acc: 0.996 Test acc 0.971\n",
            "Iteration 920 Train loss: 0.048 Train acc: 0.995 Test acc 0.973\n",
            "Iteration 930 Train loss: 0.039 Train acc: 0.995 Test acc 0.973\n",
            "Iteration 940 Train loss: 0.060 Train acc: 0.995 Test acc 0.973\n",
            "Iteration 950 Train loss: 0.028 Train acc: 0.996 Test acc 0.973\n",
            "Iteration 960 Train loss: 0.052 Train acc: 0.996 Test acc 0.971\n",
            "Iteration 970 Train loss: 0.037 Train acc: 0.996 Test acc 0.971\n",
            "Iteration 980 Train loss: 0.032 Train acc: 0.996 Test acc 0.969\n",
            "Iteration 990 Train loss: 0.033 Train acc: 0.996 Test acc 0.969\n"
          ]
        }
      ]
    },
    {
      "cell_type": "markdown",
      "metadata": {
        "id": "66OKSmlCptIS"
      },
      "source": [
        "**Exercise 6**: Display the learning curves. You can then play with the network and training parameters:\n",
        "what happens when you change the learning rate, the number of hidden sizes, etc?"
      ]
    },
    {
      "cell_type": "code",
      "metadata": {
        "colab": {
          "base_uri": "https://localhost:8080/"
        },
        "id": "ydMLaVcF4jVe",
        "outputId": "a1d37907-6bdc-46f4-a6ae-94b9f443211a"
      },
      "source": [
        "test_list"
      ],
      "execution_count": null,
      "outputs": [
        {
          "output_type": "execute_result",
          "data": {
            "text/plain": [
              "[tensor(0.1333),\n",
              " tensor(0.6600),\n",
              " tensor(0.8333),\n",
              " tensor(0.8911),\n",
              " tensor(0.9089),\n",
              " tensor(0.9111),\n",
              " tensor(0.9200),\n",
              " tensor(0.9311),\n",
              " tensor(0.9333),\n",
              " tensor(0.9400),\n",
              " tensor(0.9422),\n",
              " tensor(0.9378),\n",
              " tensor(0.9444),\n",
              " tensor(0.9444),\n",
              " tensor(0.9400),\n",
              " tensor(0.9533),\n",
              " tensor(0.9467),\n",
              " tensor(0.9533),\n",
              " tensor(0.9556),\n",
              " tensor(0.9556),\n",
              " tensor(0.9578),\n",
              " tensor(0.9511),\n",
              " tensor(0.9556),\n",
              " tensor(0.9556),\n",
              " tensor(0.9578),\n",
              " tensor(0.9578),\n",
              " tensor(0.9578),\n",
              " tensor(0.9578),\n",
              " tensor(0.9556),\n",
              " tensor(0.9578),\n",
              " tensor(0.9556),\n",
              " tensor(0.9556),\n",
              " tensor(0.9578),\n",
              " tensor(0.9578),\n",
              " tensor(0.9578),\n",
              " tensor(0.9600),\n",
              " tensor(0.9600),\n",
              " tensor(0.9600),\n",
              " tensor(0.9600),\n",
              " tensor(0.9600),\n",
              " tensor(0.9600),\n",
              " tensor(0.9622),\n",
              " tensor(0.9622),\n",
              " tensor(0.9578),\n",
              " tensor(0.9600),\n",
              " tensor(0.9600),\n",
              " tensor(0.9600),\n",
              " tensor(0.9600),\n",
              " tensor(0.9600),\n",
              " tensor(0.9622),\n",
              " tensor(0.9600),\n",
              " tensor(0.9622),\n",
              " tensor(0.9600),\n",
              " tensor(0.9644),\n",
              " tensor(0.9644),\n",
              " tensor(0.9622),\n",
              " tensor(0.9644),\n",
              " tensor(0.9644),\n",
              " tensor(0.9622),\n",
              " tensor(0.9689),\n",
              " tensor(0.9667),\n",
              " tensor(0.9622),\n",
              " tensor(0.9644),\n",
              " tensor(0.9644),\n",
              " tensor(0.9667),\n",
              " tensor(0.9622),\n",
              " tensor(0.9622),\n",
              " tensor(0.9644),\n",
              " tensor(0.9689),\n",
              " tensor(0.9689),\n",
              " tensor(0.9689),\n",
              " tensor(0.9667),\n",
              " tensor(0.9667),\n",
              " tensor(0.9667),\n",
              " tensor(0.9667),\n",
              " tensor(0.9667),\n",
              " tensor(0.9667),\n",
              " tensor(0.9667),\n",
              " tensor(0.9689),\n",
              " tensor(0.9711),\n",
              " tensor(0.9667),\n",
              " tensor(0.9667),\n",
              " tensor(0.9667),\n",
              " tensor(0.9667),\n",
              " tensor(0.9667),\n",
              " tensor(0.9667),\n",
              " tensor(0.9689),\n",
              " tensor(0.9667),\n",
              " tensor(0.9689),\n",
              " tensor(0.9667),\n",
              " tensor(0.9667),\n",
              " tensor(0.9711),\n",
              " tensor(0.9733),\n",
              " tensor(0.9733),\n",
              " tensor(0.9733),\n",
              " tensor(0.9733),\n",
              " tensor(0.9711),\n",
              " tensor(0.9711),\n",
              " tensor(0.9689),\n",
              " tensor(0.9689)]"
            ]
          },
          "metadata": {},
          "execution_count": 57
        }
      ]
    },
    {
      "cell_type": "code",
      "metadata": {
        "colab": {
          "base_uri": "https://localhost:8080/"
        },
        "id": "OIeai8774lzS",
        "outputId": "30f74668-df31-4adc-d1f5-f795d5cd9c11"
      },
      "source": [
        "train_list"
      ],
      "execution_count": null,
      "outputs": [
        {
          "output_type": "execute_result",
          "data": {
            "text/plain": [
              "[tensor(0.1455),\n",
              " tensor(0.6696),\n",
              " tensor(0.8359),\n",
              " tensor(0.8805),\n",
              " tensor(0.8990),\n",
              " tensor(0.9087),\n",
              " tensor(0.9183),\n",
              " tensor(0.9265),\n",
              " tensor(0.9310),\n",
              " tensor(0.9310),\n",
              " tensor(0.9362),\n",
              " tensor(0.9406),\n",
              " tensor(0.9480),\n",
              " tensor(0.9495),\n",
              " tensor(0.9503),\n",
              " tensor(0.9517),\n",
              " tensor(0.9517),\n",
              " tensor(0.9569),\n",
              " tensor(0.9614),\n",
              " tensor(0.9629),\n",
              " tensor(0.9644),\n",
              " tensor(0.9659),\n",
              " tensor(0.9651),\n",
              " tensor(0.9666),\n",
              " tensor(0.9710),\n",
              " tensor(0.9710),\n",
              " tensor(0.9740),\n",
              " tensor(0.9733),\n",
              " tensor(0.9748),\n",
              " tensor(0.9748),\n",
              " tensor(0.9748),\n",
              " tensor(0.9755),\n",
              " tensor(0.9770),\n",
              " tensor(0.9777),\n",
              " tensor(0.9777),\n",
              " tensor(0.9785),\n",
              " tensor(0.9792),\n",
              " tensor(0.9807),\n",
              " tensor(0.9822),\n",
              " tensor(0.9822),\n",
              " tensor(0.9814),\n",
              " tensor(0.9807),\n",
              " tensor(0.9807),\n",
              " tensor(0.9807),\n",
              " tensor(0.9822),\n",
              " tensor(0.9822),\n",
              " tensor(0.9829),\n",
              " tensor(0.9829),\n",
              " tensor(0.9837),\n",
              " tensor(0.9844),\n",
              " tensor(0.9852),\n",
              " tensor(0.9844),\n",
              " tensor(0.9859),\n",
              " tensor(0.9866),\n",
              " tensor(0.9859),\n",
              " tensor(0.9859),\n",
              " tensor(0.9859),\n",
              " tensor(0.9859),\n",
              " tensor(0.9859),\n",
              " tensor(0.9874),\n",
              " tensor(0.9866),\n",
              " tensor(0.9859),\n",
              " tensor(0.9889),\n",
              " tensor(0.9881),\n",
              " tensor(0.9896),\n",
              " tensor(0.9896),\n",
              " tensor(0.9889),\n",
              " tensor(0.9896),\n",
              " tensor(0.9889),\n",
              " tensor(0.9896),\n",
              " tensor(0.9896),\n",
              " tensor(0.9918),\n",
              " tensor(0.9918),\n",
              " tensor(0.9926),\n",
              " tensor(0.9926),\n",
              " tensor(0.9933),\n",
              " tensor(0.9933),\n",
              " tensor(0.9926),\n",
              " tensor(0.9926),\n",
              " tensor(0.9926),\n",
              " tensor(0.9933),\n",
              " tensor(0.9933),\n",
              " tensor(0.9948),\n",
              " tensor(0.9955),\n",
              " tensor(0.9955),\n",
              " tensor(0.9948),\n",
              " tensor(0.9948),\n",
              " tensor(0.9948),\n",
              " tensor(0.9955),\n",
              " tensor(0.9955),\n",
              " tensor(0.9963),\n",
              " tensor(0.9955),\n",
              " tensor(0.9948),\n",
              " tensor(0.9948),\n",
              " tensor(0.9948),\n",
              " tensor(0.9963),\n",
              " tensor(0.9963),\n",
              " tensor(0.9955),\n",
              " tensor(0.9955),\n",
              " tensor(0.9963)]"
            ]
          },
          "metadata": {},
          "execution_count": 58
        }
      ]
    },
    {
      "cell_type": "code",
      "metadata": {
        "id": "xsNa-qKv4nEQ"
      },
      "source": [
        "import matplotlib.pyplot as plt"
      ],
      "execution_count": null,
      "outputs": []
    },
    {
      "cell_type": "code",
      "metadata": {
        "colab": {
          "base_uri": "https://localhost:8080/",
          "height": 287
        },
        "id": "56PTLuex4sRr",
        "outputId": "46327b89-c976-4323-fa59-166269307f77"
      },
      "source": [
        "plt.plot(train_list, label='Train accuracy')\n",
        "plt.plot(test_list, label='Test accuracy')\n",
        "plt.ylim([0.7, 1])\n",
        "plt.legend()"
      ],
      "execution_count": null,
      "outputs": [
        {
          "output_type": "execute_result",
          "data": {
            "text/plain": [
              "<matplotlib.legend.Legend at 0x7f33da850ad0>"
            ]
          },
          "metadata": {},
          "execution_count": 62
        },
        {
          "output_type": "display_data",
          "data": {
            "image/png": "[encoded data removed]",
            "text/plain": [
              "<Figure size 432x288 with 1 Axes>"
            ]
          },
          "metadata": {
            "needs_background": "light"
          }
        }
      ]
    },
    {
      "cell_type": "code",
      "metadata": {
        "id": "gUHJbsxq4uh0"
      },
      "source": [
        ""
      ],
      "execution_count": null,
      "outputs": []
    }
  ]
}